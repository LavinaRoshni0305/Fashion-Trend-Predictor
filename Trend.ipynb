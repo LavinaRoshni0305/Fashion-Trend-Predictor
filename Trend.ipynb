{
 "cells": [
  {
   "cell_type": "code",
   "execution_count": 7,
   "id": "b09e8592-7c6b-4da3-8999-723bbba964ec",
   "metadata": {},
   "outputs": [
    {
     "name": "stdout",
     "output_type": "stream",
     "text": [
      "      id gender masterCategory subCategory  articleType baseColour  season  \\\n",
      "0  15970    Men        Apparel     Topwear       Shirts  Navy Blue    Fall   \n",
      "1  39386    Men        Apparel  Bottomwear        Jeans       Blue  Summer   \n",
      "2  59263  Women    Accessories     Watches      Watches     Silver  Winter   \n",
      "3  21379    Men        Apparel  Bottomwear  Track Pants      Black    Fall   \n",
      "4  53759    Men        Apparel     Topwear      Tshirts       Grey  Summer   \n",
      "\n",
      "     year   usage                             productDisplayName Unnamed: 10  \\\n",
      "0  2011.0  Casual               Turtle Check Men Navy Blue Shirt         NaN   \n",
      "1  2012.0  Casual             Peter England Men Party Blue Jeans         NaN   \n",
      "2  2016.0  Casual                       Titan Women Silver Watch         NaN   \n",
      "3  2011.0  Casual  Manchester United Men Solid Black Track Pants         NaN   \n",
      "4  2012.0  Casual                          Puma Men Grey T-shirt         NaN   \n",
      "\n",
      "  Unnamed: 11  \n",
      "0         NaN  \n",
      "1         NaN  \n",
      "2         NaN  \n",
      "3         NaN  \n",
      "4         NaN  \n"
     ]
    }
   ],
   "source": [
    "import pandas as pd\n",
    "import numpy as np\n",
    "\n",
    "# Load the dataset\n",
    "df = pd.read_csv('style.csv')  # Replace with your dataset path\n",
    "print(df.head())\n",
    "\n",
    "# Example dataset columns: ['id', 'image', 'caption', 'category', 'color', 'timestamp']"
   ]
  },
  {
   "cell_type": "code",
   "execution_count": 27,
   "id": "2201e8e8-cfa0-4d5c-8992-077e364b094b",
   "metadata": {},
   "outputs": [
    {
     "name": "stdout",
     "output_type": "stream",
     "text": [
      "Missing values in 'year' column: 1\n",
      "      id gender masterCategory subCategory  articleType baseColour  season  \\\n",
      "0  15970    Men        Apparel     Topwear       Shirts  Navy Blue    Fall   \n",
      "1  39386    Men        Apparel  Bottomwear        Jeans       Blue  Summer   \n",
      "2  59263  Women    Accessories     Watches      Watches     Silver  Winter   \n",
      "3  21379    Men        Apparel  Bottomwear  Track Pants      Black    Fall   \n",
      "4  53759    Men        Apparel     Topwear      Tshirts       Grey  Summer   \n",
      "\n",
      "   year   usage                             productDisplayName  \n",
      "0  2011  Casual               Turtle Check Men Navy Blue Shirt  \n",
      "1  2012  Casual             Peter England Men Party Blue Jeans  \n",
      "2  2016  Casual                       Titan Women Silver Watch  \n",
      "3  2011  Casual  Manchester United Men Solid Black Track Pants  \n",
      "4  2012  Casual                          Puma Men Grey T-shirt  \n"
     ]
    },
    {
     "name": "stderr",
     "output_type": "stream",
     "text": [
      "C:\\Users\\lavin\\AppData\\Local\\Temp\\ipykernel_3136\\1792606425.py:64: SettingWithCopyWarning:\n",
      "\n",
      "\n",
      "A value is trying to be set on a copy of a slice from a DataFrame.\n",
      "Try using .loc[row_indexer,col_indexer] = value instead\n",
      "\n",
      "See the caveats in the documentation: https://pandas.pydata.org/pandas-docs/stable/user_guide/indexing.html#returning-a-view-versus-a-copy\n",
      "\n",
      "C:\\Users\\lavin\\AppData\\Local\\Temp\\ipykernel_3136\\1792606425.py:71: SettingWithCopyWarning:\n",
      "\n",
      "\n",
      "A value is trying to be set on a copy of a slice from a DataFrame.\n",
      "Try using .loc[row_indexer,col_indexer] = value instead\n",
      "\n",
      "See the caveats in the documentation: https://pandas.pydata.org/pandas-docs/stable/user_guide/indexing.html#returning-a-view-versus-a-copy\n",
      "\n",
      "21:37:23 - cmdstanpy - INFO - Chain [1] start processing\n"
     ]
    },
    {
     "name": "stdout",
     "output_type": "stream",
     "text": [
      "Trending Keywords: [('Men', 21526), ('Women', 15218), ('Black', 9664), ('Blue', 6580), ('White', 5743), ('T-shirt', 4870), ('Shoes', 4082), ('Printed', 3437), (\"'s\", 3312), ('Brown', 3238)]\n",
      "Missing values in 'month' column: 20\n",
      "Unique values in 'month' column: [ 9.  6. 12.  3. nan]\n",
      "First few rows of 'year' and 'month':\n",
      "   year  month\n",
      "0  2011      9\n",
      "1  2012      6\n",
      "2  2016     12\n",
      "3  2011      9\n",
      "4  2012      6\n",
      "First few rows of 'ds':\n",
      "0   2011-09-01\n",
      "1   2012-06-01\n",
      "2   2016-12-01\n",
      "3   2011-09-01\n",
      "4   2012-06-01\n",
      "Name: ds, dtype: datetime64[ns]\n"
     ]
    },
    {
     "name": "stderr",
     "output_type": "stream",
     "text": [
      "21:37:24 - cmdstanpy - INFO - Chain [1] done processing\n"
     ]
    },
    {
     "name": "stdout",
     "output_type": "stream",
     "text": [
      "           ds          yhat    yhat_lower    yhat_upper\n",
      "49 2020-01-31 -10402.800986 -13383.301557  -7562.448131\n",
      "50 2020-02-29   -290.298955  -3263.638078   2287.814068\n",
      "51 2020-03-31  10069.245638   7055.554673  13005.349521\n",
      "52 2020-04-30  11466.847364   8657.937565  14510.602395\n",
      "53 2020-05-31   -575.228622  -3616.262307   2423.108797\n"
     ]
    },
    {
     "name": "stderr",
     "output_type": "stream",
     "text": [
      "C:\\Users\\lavin\\anaconda3\\Lib\\site-packages\\prophet\\forecaster.py:1854: FutureWarning:\n",
      "\n",
      "'M' is deprecated and will be removed in a future version, please use 'ME' instead.\n",
      "\n"
     ]
    },
    {
     "data": {
      "application/vnd.plotly.v1+json": {
       "config": {
        "plotlyServerURL": "https://plot.ly"
       },
       "data": [
        {
         "hoverlabel": {
          "bgcolor": "white",
          "font": {
           "family": "Arial",
           "size": 12
          }
         },
         "hovertemplate": "<b>Date</b>: %{x}<br><b>Trend Popularity</b>: %{y}<extra></extra>",
         "line": {
          "color": "royalblue",
          "width": 3
         },
         "mode": "lines",
         "name": "Predicted Trend",
         "type": "scatter",
         "x": [
          "2007-03-01T00:00:00",
          "2008-03-01T00:00:00",
          "2008-06-01T00:00:00",
          "2008-09-01T00:00:00",
          "2008-12-01T00:00:00",
          "2009-06-01T00:00:00",
          "2009-09-01T00:00:00",
          "2010-03-01T00:00:00",
          "2010-06-01T00:00:00",
          "2010-09-01T00:00:00",
          "2010-12-01T00:00:00",
          "2011-03-01T00:00:00",
          "2011-06-01T00:00:00",
          "2011-09-01T00:00:00",
          "2011-12-01T00:00:00",
          "2012-03-01T00:00:00",
          "2012-06-01T00:00:00",
          "2012-09-01T00:00:00",
          "2012-12-01T00:00:00",
          "2013-03-01T00:00:00",
          "2013-06-01T00:00:00",
          "2013-09-01T00:00:00",
          "2013-12-01T00:00:00",
          "2014-03-01T00:00:00",
          "2014-06-01T00:00:00",
          "2014-09-01T00:00:00",
          "2014-12-01T00:00:00",
          "2015-03-01T00:00:00",
          "2015-06-01T00:00:00",
          "2015-09-01T00:00:00",
          "2015-12-01T00:00:00",
          "2016-06-01T00:00:00",
          "2016-09-01T00:00:00",
          "2016-12-01T00:00:00",
          "2017-03-01T00:00:00",
          "2017-06-01T00:00:00",
          "2017-12-01T00:00:00",
          "2018-03-01T00:00:00",
          "2018-06-01T00:00:00",
          "2018-09-01T00:00:00",
          "2018-12-01T00:00:00",
          "2019-06-01T00:00:00",
          "2019-06-30T00:00:00",
          "2019-07-31T00:00:00",
          "2019-08-31T00:00:00",
          "2019-09-30T00:00:00",
          "2019-10-31T00:00:00",
          "2019-11-30T00:00:00",
          "2019-12-31T00:00:00",
          "2020-01-31T00:00:00",
          "2020-02-29T00:00:00",
          "2020-03-31T00:00:00",
          "2020-04-30T00:00:00",
          "2020-05-31T00:00:00"
         ],
         "y": [
          156.42119185868432,
          626.1507249951483,
          3413.785490920206,
          -112.08502905634487,
          1311.8658886309477,
          2317.8604372619056,
          816.4852280667074,
          312.1223150464848,
          1308.0757268912494,
          1756.6234996997755,
          736.1129618710402,
          94.22398524696655,
          385.37886251647615,
          2707.237067637162,
          524.2742900338817,
          563.9535180331113,
          3351.588283827632,
          -174.28223628724118,
          1249.623419953431,
          427.0533140126445,
          2255.5274457153237,
          754.1064776939074,
          936.5288053890235,
          249.65353917612447,
          1245.5611922089092,
          1694.0632062007144,
          673.5074069605744,
          31.573666313341164,
          322.6827848116245,
          2644.49523117811,
          461.48719224916385,
          3288.7101660075987,
          -237.206112787424,
          1186.699543439232,
          364.12943748715225,
          2192.6035691940024,
          873.6049288828044,
          186.7296627026917,
          1182.6373157466396,
          1631.13932976478,
          610.5835305357559,
          259.7589083820403,
          45877.15709230714,
          27948.737479658572,
          6529.599664033967,
          46458.021896385435,
          -4792.270530807575,
          138.4960455364053,
          -22791.841404346636,
          -10402.800985999893,
          -290.29895515477074,
          10069.245638413657,
          11466.847364048757,
          -575.2286215493677
         ]
        },
        {
         "hoverinfo": "skip",
         "hoverlabel": {
          "bgcolor": "white",
          "font": {
           "family": "Arial",
           "size": 12
          }
         },
         "line": {
          "width": 0
         },
         "mode": "lines",
         "showlegend": false,
         "type": "scatter",
         "x": [
          "2007-03-01T00:00:00",
          "2008-03-01T00:00:00",
          "2008-06-01T00:00:00",
          "2008-09-01T00:00:00",
          "2008-12-01T00:00:00",
          "2009-06-01T00:00:00",
          "2009-09-01T00:00:00",
          "2010-03-01T00:00:00",
          "2010-06-01T00:00:00",
          "2010-09-01T00:00:00",
          "2010-12-01T00:00:00",
          "2011-03-01T00:00:00",
          "2011-06-01T00:00:00",
          "2011-09-01T00:00:00",
          "2011-12-01T00:00:00",
          "2012-03-01T00:00:00",
          "2012-06-01T00:00:00",
          "2012-09-01T00:00:00",
          "2012-12-01T00:00:00",
          "2013-03-01T00:00:00",
          "2013-06-01T00:00:00",
          "2013-09-01T00:00:00",
          "2013-12-01T00:00:00",
          "2014-03-01T00:00:00",
          "2014-06-01T00:00:00",
          "2014-09-01T00:00:00",
          "2014-12-01T00:00:00",
          "2015-03-01T00:00:00",
          "2015-06-01T00:00:00",
          "2015-09-01T00:00:00",
          "2015-12-01T00:00:00",
          "2016-06-01T00:00:00",
          "2016-09-01T00:00:00",
          "2016-12-01T00:00:00",
          "2017-03-01T00:00:00",
          "2017-06-01T00:00:00",
          "2017-12-01T00:00:00",
          "2018-03-01T00:00:00",
          "2018-06-01T00:00:00",
          "2018-09-01T00:00:00",
          "2018-12-01T00:00:00",
          "2019-06-01T00:00:00",
          "2019-06-30T00:00:00",
          "2019-07-31T00:00:00",
          "2019-08-31T00:00:00",
          "2019-09-30T00:00:00",
          "2019-10-31T00:00:00",
          "2019-11-30T00:00:00",
          "2019-12-31T00:00:00",
          "2020-01-31T00:00:00",
          "2020-02-29T00:00:00",
          "2020-03-31T00:00:00",
          "2020-04-30T00:00:00",
          "2020-05-31T00:00:00"
         ],
         "y": [
          2914.9039942631375,
          3386.629979075301,
          6599.95996092563,
          2922.876277042747,
          4344.499885872407,
          5316.68960756498,
          3704.20307886088,
          3229.731365521931,
          4226.624501678418,
          4555.636107800359,
          3671.302974530028,
          3006.3789751171253,
          3216.0706487970842,
          5637.548276572816,
          3343.8137159009875,
          3451.1305551530663,
          6292.016282268886,
          2778.48805466346,
          4181.059158213784,
          3352.3423557065585,
          5095.601198085168,
          3799.4490603361814,
          4109.176729339678,
          3217.2328666136023,
          4071.9906715417796,
          4754.424602691462,
          3564.398107028468,
          3110.615800076354,
          3201.093979875768,
          5571.3893622100195,
          3409.589831833357,
          6162.02998659126,
          2542.4806401995083,
          3822.2842656163934,
          3244.302216530019,
          5024.706273077801,
          3769.262122629201,
          2813.3186586125926,
          4169.941433725241,
          4597.208785991594,
          3637.2966995429133,
          3271.3401960362676,
          48644.34728265819,
          30957.199564245882,
          9367.968217466609,
          49566.31484090947,
          -1831.3080213483188,
          3191.6071558190097,
          -19818.924947015363,
          -7562.448131299898,
          2287.814068168872,
          13005.349521415897,
          14510.602395363008,
          2423.10879706242
         ]
        },
        {
         "fill": "tonexty",
         "fillcolor": "rgba(173, 216, 230, 0.3)",
         "hoverinfo": "skip",
         "hoverlabel": {
          "bgcolor": "white",
          "font": {
           "family": "Arial",
           "size": 12
          }
         },
         "line": {
          "width": 0
         },
         "mode": "lines",
         "showlegend": false,
         "type": "scatter",
         "x": [
          "2007-03-01T00:00:00",
          "2008-03-01T00:00:00",
          "2008-06-01T00:00:00",
          "2008-09-01T00:00:00",
          "2008-12-01T00:00:00",
          "2009-06-01T00:00:00",
          "2009-09-01T00:00:00",
          "2010-03-01T00:00:00",
          "2010-06-01T00:00:00",
          "2010-09-01T00:00:00",
          "2010-12-01T00:00:00",
          "2011-03-01T00:00:00",
          "2011-06-01T00:00:00",
          "2011-09-01T00:00:00",
          "2011-12-01T00:00:00",
          "2012-03-01T00:00:00",
          "2012-06-01T00:00:00",
          "2012-09-01T00:00:00",
          "2012-12-01T00:00:00",
          "2013-03-01T00:00:00",
          "2013-06-01T00:00:00",
          "2013-09-01T00:00:00",
          "2013-12-01T00:00:00",
          "2014-03-01T00:00:00",
          "2014-06-01T00:00:00",
          "2014-09-01T00:00:00",
          "2014-12-01T00:00:00",
          "2015-03-01T00:00:00",
          "2015-06-01T00:00:00",
          "2015-09-01T00:00:00",
          "2015-12-01T00:00:00",
          "2016-06-01T00:00:00",
          "2016-09-01T00:00:00",
          "2016-12-01T00:00:00",
          "2017-03-01T00:00:00",
          "2017-06-01T00:00:00",
          "2017-12-01T00:00:00",
          "2018-03-01T00:00:00",
          "2018-06-01T00:00:00",
          "2018-09-01T00:00:00",
          "2018-12-01T00:00:00",
          "2019-06-01T00:00:00",
          "2019-06-30T00:00:00",
          "2019-07-31T00:00:00",
          "2019-08-31T00:00:00",
          "2019-09-30T00:00:00",
          "2019-10-31T00:00:00",
          "2019-11-30T00:00:00",
          "2019-12-31T00:00:00",
          "2020-01-31T00:00:00",
          "2020-02-29T00:00:00",
          "2020-03-31T00:00:00",
          "2020-04-30T00:00:00",
          "2020-05-31T00:00:00"
         ],
         "y": [
          -2834.636256412688,
          -2356.839338980689,
          427.2250050647536,
          -2838.010276499672,
          -1660.121455914787,
          -570.1631369625007,
          -2281.5506960725406,
          -2446.967687126826,
          -1650.964908679763,
          -1017.1506976324416,
          -2315.8538548933884,
          -2760.875859352455,
          -2663.923908464574,
          -50.33897131943623,
          -2215.824639949118,
          -2522.2919970808202,
          430.01631935845415,
          -3029.429904094687,
          -1806.306493371811,
          -2475.1287925996307,
          -781.538984512583,
          -2173.12278823143,
          -1892.2402398277977,
          -2618.7692021418748,
          -1589.0857776052865,
          -1216.0146532791807,
          -2194.823835153334,
          -2881.114839880018,
          -2675.7347657659125,
          -101.3240350420307,
          -2302.250462327546,
          191.98438706526582,
          -3223.9190887672225,
          -1658.6028136633631,
          -2568.806082821859,
          -589.7233799847859,
          -2179.372182343624,
          -2847.2185457126434,
          -1667.0441259724116,
          -1257.045852423152,
          -2419.553118183587,
          -2524.2001537517876,
          42806.24284139318,
          25026.061071144704,
          3534.1165152203935,
          43714.50258938043,
          -7586.848920552704,
          -2701.9018743600623,
          -25538.669914203092,
          -13383.301556559152,
          -3263.6380779305387,
          7055.5546732312905,
          8657.937564550535,
          -3616.26230687403
         ]
        }
       ],
       "layout": {
        "autosize": true,
        "font": {
         "color": "black",
         "family": "Arial",
         "size": 12
        },
        "hovermode": "x unified",
        "legend": {
         "bgcolor": "rgba(255, 255, 255, 0.5)",
         "x": 0.02,
         "y": 0.98
        },
        "paper_bgcolor": "rgba(255, 255, 255, 0.9)",
        "plot_bgcolor": "rgba(240, 240, 240, 0.9)",
        "template": {
         "data": {
          "bar": [
           {
            "error_x": {
             "color": "#2a3f5f"
            },
            "error_y": {
             "color": "#2a3f5f"
            },
            "marker": {
             "line": {
              "color": "white",
              "width": 0.5
             },
             "pattern": {
              "fillmode": "overlay",
              "size": 10,
              "solidity": 0.2
             }
            },
            "type": "bar"
           }
          ],
          "barpolar": [
           {
            "marker": {
             "line": {
              "color": "white",
              "width": 0.5
             },
             "pattern": {
              "fillmode": "overlay",
              "size": 10,
              "solidity": 0.2
             }
            },
            "type": "barpolar"
           }
          ],
          "carpet": [
           {
            "aaxis": {
             "endlinecolor": "#2a3f5f",
             "gridcolor": "#C8D4E3",
             "linecolor": "#C8D4E3",
             "minorgridcolor": "#C8D4E3",
             "startlinecolor": "#2a3f5f"
            },
            "baxis": {
             "endlinecolor": "#2a3f5f",
             "gridcolor": "#C8D4E3",
             "linecolor": "#C8D4E3",
             "minorgridcolor": "#C8D4E3",
             "startlinecolor": "#2a3f5f"
            },
            "type": "carpet"
           }
          ],
          "choropleth": [
           {
            "colorbar": {
             "outlinewidth": 0,
             "ticks": ""
            },
            "type": "choropleth"
           }
          ],
          "contour": [
           {
            "colorbar": {
             "outlinewidth": 0,
             "ticks": ""
            },
            "colorscale": [
             [
              0,
              "#0d0887"
             ],
             [
              0.1111111111111111,
              "#46039f"
             ],
             [
              0.2222222222222222,
              "#7201a8"
             ],
             [
              0.3333333333333333,
              "#9c179e"
             ],
             [
              0.4444444444444444,
              "#bd3786"
             ],
             [
              0.5555555555555556,
              "#d8576b"
             ],
             [
              0.6666666666666666,
              "#ed7953"
             ],
             [
              0.7777777777777778,
              "#fb9f3a"
             ],
             [
              0.8888888888888888,
              "#fdca26"
             ],
             [
              1,
              "#f0f921"
             ]
            ],
            "type": "contour"
           }
          ],
          "contourcarpet": [
           {
            "colorbar": {
             "outlinewidth": 0,
             "ticks": ""
            },
            "type": "contourcarpet"
           }
          ],
          "heatmap": [
           {
            "colorbar": {
             "outlinewidth": 0,
             "ticks": ""
            },
            "colorscale": [
             [
              0,
              "#0d0887"
             ],
             [
              0.1111111111111111,
              "#46039f"
             ],
             [
              0.2222222222222222,
              "#7201a8"
             ],
             [
              0.3333333333333333,
              "#9c179e"
             ],
             [
              0.4444444444444444,
              "#bd3786"
             ],
             [
              0.5555555555555556,
              "#d8576b"
             ],
             [
              0.6666666666666666,
              "#ed7953"
             ],
             [
              0.7777777777777778,
              "#fb9f3a"
             ],
             [
              0.8888888888888888,
              "#fdca26"
             ],
             [
              1,
              "#f0f921"
             ]
            ],
            "type": "heatmap"
           }
          ],
          "heatmapgl": [
           {
            "colorbar": {
             "outlinewidth": 0,
             "ticks": ""
            },
            "colorscale": [
             [
              0,
              "#0d0887"
             ],
             [
              0.1111111111111111,
              "#46039f"
             ],
             [
              0.2222222222222222,
              "#7201a8"
             ],
             [
              0.3333333333333333,
              "#9c179e"
             ],
             [
              0.4444444444444444,
              "#bd3786"
             ],
             [
              0.5555555555555556,
              "#d8576b"
             ],
             [
              0.6666666666666666,
              "#ed7953"
             ],
             [
              0.7777777777777778,
              "#fb9f3a"
             ],
             [
              0.8888888888888888,
              "#fdca26"
             ],
             [
              1,
              "#f0f921"
             ]
            ],
            "type": "heatmapgl"
           }
          ],
          "histogram": [
           {
            "marker": {
             "pattern": {
              "fillmode": "overlay",
              "size": 10,
              "solidity": 0.2
             }
            },
            "type": "histogram"
           }
          ],
          "histogram2d": [
           {
            "colorbar": {
             "outlinewidth": 0,
             "ticks": ""
            },
            "colorscale": [
             [
              0,
              "#0d0887"
             ],
             [
              0.1111111111111111,
              "#46039f"
             ],
             [
              0.2222222222222222,
              "#7201a8"
             ],
             [
              0.3333333333333333,
              "#9c179e"
             ],
             [
              0.4444444444444444,
              "#bd3786"
             ],
             [
              0.5555555555555556,
              "#d8576b"
             ],
             [
              0.6666666666666666,
              "#ed7953"
             ],
             [
              0.7777777777777778,
              "#fb9f3a"
             ],
             [
              0.8888888888888888,
              "#fdca26"
             ],
             [
              1,
              "#f0f921"
             ]
            ],
            "type": "histogram2d"
           }
          ],
          "histogram2dcontour": [
           {
            "colorbar": {
             "outlinewidth": 0,
             "ticks": ""
            },
            "colorscale": [
             [
              0,
              "#0d0887"
             ],
             [
              0.1111111111111111,
              "#46039f"
             ],
             [
              0.2222222222222222,
              "#7201a8"
             ],
             [
              0.3333333333333333,
              "#9c179e"
             ],
             [
              0.4444444444444444,
              "#bd3786"
             ],
             [
              0.5555555555555556,
              "#d8576b"
             ],
             [
              0.6666666666666666,
              "#ed7953"
             ],
             [
              0.7777777777777778,
              "#fb9f3a"
             ],
             [
              0.8888888888888888,
              "#fdca26"
             ],
             [
              1,
              "#f0f921"
             ]
            ],
            "type": "histogram2dcontour"
           }
          ],
          "mesh3d": [
           {
            "colorbar": {
             "outlinewidth": 0,
             "ticks": ""
            },
            "type": "mesh3d"
           }
          ],
          "parcoords": [
           {
            "line": {
             "colorbar": {
              "outlinewidth": 0,
              "ticks": ""
             }
            },
            "type": "parcoords"
           }
          ],
          "pie": [
           {
            "automargin": true,
            "type": "pie"
           }
          ],
          "scatter": [
           {
            "fillpattern": {
             "fillmode": "overlay",
             "size": 10,
             "solidity": 0.2
            },
            "type": "scatter"
           }
          ],
          "scatter3d": [
           {
            "line": {
             "colorbar": {
              "outlinewidth": 0,
              "ticks": ""
             }
            },
            "marker": {
             "colorbar": {
              "outlinewidth": 0,
              "ticks": ""
             }
            },
            "type": "scatter3d"
           }
          ],
          "scattercarpet": [
           {
            "marker": {
             "colorbar": {
              "outlinewidth": 0,
              "ticks": ""
             }
            },
            "type": "scattercarpet"
           }
          ],
          "scattergeo": [
           {
            "marker": {
             "colorbar": {
              "outlinewidth": 0,
              "ticks": ""
             }
            },
            "type": "scattergeo"
           }
          ],
          "scattergl": [
           {
            "marker": {
             "colorbar": {
              "outlinewidth": 0,
              "ticks": ""
             }
            },
            "type": "scattergl"
           }
          ],
          "scattermapbox": [
           {
            "marker": {
             "colorbar": {
              "outlinewidth": 0,
              "ticks": ""
             }
            },
            "type": "scattermapbox"
           }
          ],
          "scatterpolar": [
           {
            "marker": {
             "colorbar": {
              "outlinewidth": 0,
              "ticks": ""
             }
            },
            "type": "scatterpolar"
           }
          ],
          "scatterpolargl": [
           {
            "marker": {
             "colorbar": {
              "outlinewidth": 0,
              "ticks": ""
             }
            },
            "type": "scatterpolargl"
           }
          ],
          "scatterternary": [
           {
            "marker": {
             "colorbar": {
              "outlinewidth": 0,
              "ticks": ""
             }
            },
            "type": "scatterternary"
           }
          ],
          "surface": [
           {
            "colorbar": {
             "outlinewidth": 0,
             "ticks": ""
            },
            "colorscale": [
             [
              0,
              "#0d0887"
             ],
             [
              0.1111111111111111,
              "#46039f"
             ],
             [
              0.2222222222222222,
              "#7201a8"
             ],
             [
              0.3333333333333333,
              "#9c179e"
             ],
             [
              0.4444444444444444,
              "#bd3786"
             ],
             [
              0.5555555555555556,
              "#d8576b"
             ],
             [
              0.6666666666666666,
              "#ed7953"
             ],
             [
              0.7777777777777778,
              "#fb9f3a"
             ],
             [
              0.8888888888888888,
              "#fdca26"
             ],
             [
              1,
              "#f0f921"
             ]
            ],
            "type": "surface"
           }
          ],
          "table": [
           {
            "cells": {
             "fill": {
              "color": "#EBF0F8"
             },
             "line": {
              "color": "white"
             }
            },
            "header": {
             "fill": {
              "color": "#C8D4E3"
             },
             "line": {
              "color": "white"
             }
            },
            "type": "table"
           }
          ]
         },
         "layout": {
          "annotationdefaults": {
           "arrowcolor": "#2a3f5f",
           "arrowhead": 0,
           "arrowwidth": 1
          },
          "autotypenumbers": "strict",
          "coloraxis": {
           "colorbar": {
            "outlinewidth": 0,
            "ticks": ""
           }
          },
          "colorscale": {
           "diverging": [
            [
             0,
             "#8e0152"
            ],
            [
             0.1,
             "#c51b7d"
            ],
            [
             0.2,
             "#de77ae"
            ],
            [
             0.3,
             "#f1b6da"
            ],
            [
             0.4,
             "#fde0ef"
            ],
            [
             0.5,
             "#f7f7f7"
            ],
            [
             0.6,
             "#e6f5d0"
            ],
            [
             0.7,
             "#b8e186"
            ],
            [
             0.8,
             "#7fbc41"
            ],
            [
             0.9,
             "#4d9221"
            ],
            [
             1,
             "#276419"
            ]
           ],
           "sequential": [
            [
             0,
             "#0d0887"
            ],
            [
             0.1111111111111111,
             "#46039f"
            ],
            [
             0.2222222222222222,
             "#7201a8"
            ],
            [
             0.3333333333333333,
             "#9c179e"
            ],
            [
             0.4444444444444444,
             "#bd3786"
            ],
            [
             0.5555555555555556,
             "#d8576b"
            ],
            [
             0.6666666666666666,
             "#ed7953"
            ],
            [
             0.7777777777777778,
             "#fb9f3a"
            ],
            [
             0.8888888888888888,
             "#fdca26"
            ],
            [
             1,
             "#f0f921"
            ]
           ],
           "sequentialminus": [
            [
             0,
             "#0d0887"
            ],
            [
             0.1111111111111111,
             "#46039f"
            ],
            [
             0.2222222222222222,
             "#7201a8"
            ],
            [
             0.3333333333333333,
             "#9c179e"
            ],
            [
             0.4444444444444444,
             "#bd3786"
            ],
            [
             0.5555555555555556,
             "#d8576b"
            ],
            [
             0.6666666666666666,
             "#ed7953"
            ],
            [
             0.7777777777777778,
             "#fb9f3a"
            ],
            [
             0.8888888888888888,
             "#fdca26"
            ],
            [
             1,
             "#f0f921"
            ]
           ]
          },
          "colorway": [
           "#636efa",
           "#EF553B",
           "#00cc96",
           "#ab63fa",
           "#FFA15A",
           "#19d3f3",
           "#FF6692",
           "#B6E880",
           "#FF97FF",
           "#FECB52"
          ],
          "font": {
           "color": "#2a3f5f"
          },
          "geo": {
           "bgcolor": "white",
           "lakecolor": "white",
           "landcolor": "white",
           "showlakes": true,
           "showland": true,
           "subunitcolor": "#C8D4E3"
          },
          "hoverlabel": {
           "align": "left"
          },
          "hovermode": "closest",
          "mapbox": {
           "style": "light"
          },
          "paper_bgcolor": "white",
          "plot_bgcolor": "white",
          "polar": {
           "angularaxis": {
            "gridcolor": "#EBF0F8",
            "linecolor": "#EBF0F8",
            "ticks": ""
           },
           "bgcolor": "white",
           "radialaxis": {
            "gridcolor": "#EBF0F8",
            "linecolor": "#EBF0F8",
            "ticks": ""
           }
          },
          "scene": {
           "xaxis": {
            "backgroundcolor": "white",
            "gridcolor": "#DFE8F3",
            "gridwidth": 2,
            "linecolor": "#EBF0F8",
            "showbackground": true,
            "ticks": "",
            "zerolinecolor": "#EBF0F8"
           },
           "yaxis": {
            "backgroundcolor": "white",
            "gridcolor": "#DFE8F3",
            "gridwidth": 2,
            "linecolor": "#EBF0F8",
            "showbackground": true,
            "ticks": "",
            "zerolinecolor": "#EBF0F8"
           },
           "zaxis": {
            "backgroundcolor": "white",
            "gridcolor": "#DFE8F3",
            "gridwidth": 2,
            "linecolor": "#EBF0F8",
            "showbackground": true,
            "ticks": "",
            "zerolinecolor": "#EBF0F8"
           }
          },
          "shapedefaults": {
           "line": {
            "color": "#2a3f5f"
           }
          },
          "ternary": {
           "aaxis": {
            "gridcolor": "#DFE8F3",
            "linecolor": "#A2B1C6",
            "ticks": ""
           },
           "baxis": {
            "gridcolor": "#DFE8F3",
            "linecolor": "#A2B1C6",
            "ticks": ""
           },
           "bgcolor": "white",
           "caxis": {
            "gridcolor": "#DFE8F3",
            "linecolor": "#A2B1C6",
            "ticks": ""
           }
          },
          "title": {
           "x": 0.05
          },
          "xaxis": {
           "automargin": true,
           "gridcolor": "#EBF0F8",
           "linecolor": "#EBF0F8",
           "ticks": "",
           "title": {
            "standoff": 15
           },
           "zerolinecolor": "#EBF0F8",
           "zerolinewidth": 2
          },
          "yaxis": {
           "automargin": true,
           "gridcolor": "#EBF0F8",
           "linecolor": "#EBF0F8",
           "ticks": "",
           "title": {
            "standoff": 15
           },
           "zerolinecolor": "#EBF0F8",
           "zerolinewidth": 2
          }
         }
        },
        "title": {
         "text": "Fashion Trend Predictions"
        },
        "xaxis": {
         "autorange": true,
         "gridcolor": "peru",
         "range": [
          "2007-03-01",
          "2020-05-31"
         ],
         "showgrid": true,
         "title": {
          "text": "Date"
         },
         "type": "date"
        },
        "yaxis": {
         "autorange": true,
         "gridcolor": "peachpuff",
         "range": [
          -29711.169067264902,
          53738.81399397128
         ],
         "showgrid": true,
         "title": {
          "text": "Trend Popularity"
         },
         "type": "linear"
        }
       }
      },
      "image/png": "[encoded data removed]",
      "text/html": [
       "<div>                            <div id=\"ca7983ac-3555-4961-8891-e301f1e253ba\" class=\"plotly-graph-div\" style=\"height:525px; width:100%;\"></div>            <script type=\"text/javascript\">                require([\"plotly\"], function(Plotly) {                    window.PLOTLYENV=window.PLOTLYENV || {};                                    if (document.getElementById(\"ca7983ac-3555-4961-8891-e301f1e253ba\")) {                    Plotly.newPlot(                        \"ca7983ac-3555-4961-8891-e301f1e253ba\",                        [{\"hovertemplate\":\"\\u003cb\\u003eDate\\u003c\\u002fb\\u003e: %{x}\\u003cbr\\u003e\\u003cb\\u003eTrend Popularity\\u003c\\u002fb\\u003e: %{y}\\u003cextra\\u003e\\u003c\\u002fextra\\u003e\",\"line\":{\"color\":\"royalblue\",\"width\":3},\"mode\":\"lines\",\"name\":\"Predicted Trend\",\"x\":[\"2007-03-01T00:00:00\",\"2008-03-01T00:00:00\",\"2008-06-01T00:00:00\",\"2008-09-01T00:00:00\",\"2008-12-01T00:00:00\",\"2009-06-01T00:00:00\",\"2009-09-01T00:00:00\",\"2010-03-01T00:00:00\",\"2010-06-01T00:00:00\",\"2010-09-01T00:00:00\",\"2010-12-01T00:00:00\",\"2011-03-01T00:00:00\",\"2011-06-01T00:00:00\",\"2011-09-01T00:00:00\",\"2011-12-01T00:00:00\",\"2012-03-01T00:00:00\",\"2012-06-01T00:00:00\",\"2012-09-01T00:00:00\",\"2012-12-01T00:00:00\",\"2013-03-01T00:00:00\",\"2013-06-01T00:00:00\",\"2013-09-01T00:00:00\",\"2013-12-01T00:00:00\",\"2014-03-01T00:00:00\",\"2014-06-01T00:00:00\",\"2014-09-01T00:00:00\",\"2014-12-01T00:00:00\",\"2015-03-01T00:00:00\",\"2015-06-01T00:00:00\",\"2015-09-01T00:00:00\",\"2015-12-01T00:00:00\",\"2016-06-01T00:00:00\",\"2016-09-01T00:00:00\",\"2016-12-01T00:00:00\",\"2017-03-01T00:00:00\",\"2017-06-01T00:00:00\",\"2017-12-01T00:00:00\",\"2018-03-01T00:00:00\",\"2018-06-01T00:00:00\",\"2018-09-01T00:00:00\",\"2018-12-01T00:00:00\",\"2019-06-01T00:00:00\",\"2019-06-30T00:00:00\",\"2019-07-31T00:00:00\",\"2019-08-31T00:00:00\",\"2019-09-30T00:00:00\",\"2019-10-31T00:00:00\",\"2019-11-30T00:00:00\",\"2019-12-31T00:00:00\",\"2020-01-31T00:00:00\",\"2020-02-29T00:00:00\",\"2020-03-31T00:00:00\",\"2020-04-30T00:00:00\",\"2020-05-31T00:00:00\"],\"y\":[156.42119185868432,626.1507249951483,3413.785490920206,-112.08502905634487,1311.8658886309477,2317.8604372619056,816.4852280667074,312.1223150464848,1308.0757268912494,1756.6234996997755,736.1129618710402,94.22398524696655,385.37886251647615,2707.237067637162,524.2742900338817,563.9535180331113,3351.588283827632,-174.28223628724118,1249.623419953431,427.0533140126445,2255.5274457153237,754.1064776939074,936.5288053890235,249.65353917612447,1245.5611922089092,1694.0632062007144,673.5074069605744,31.573666313341164,322.6827848116245,2644.49523117811,461.48719224916385,3288.7101660075987,-237.206112787424,1186.699543439232,364.12943748715225,2192.6035691940024,873.6049288828044,186.7296627026917,1182.6373157466396,1631.13932976478,610.5835305357559,259.7589083820403,45877.15709230714,27948.737479658572,6529.599664033967,46458.021896385435,-4792.270530807575,138.4960455364053,-22791.841404346636,-10402.800985999893,-290.29895515477074,10069.245638413657,11466.847364048757,-575.2286215493677],\"type\":\"scatter\",\"hoverlabel\":{\"font\":{\"family\":\"Arial\",\"size\":12},\"bgcolor\":\"white\"}},{\"hoverinfo\":\"skip\",\"line\":{\"width\":0},\"mode\":\"lines\",\"showlegend\":false,\"x\":[\"2007-03-01T00:00:00\",\"2008-03-01T00:00:00\",\"2008-06-01T00:00:00\",\"2008-09-01T00:00:00\",\"2008-12-01T00:00:00\",\"2009-06-01T00:00:00\",\"2009-09-01T00:00:00\",\"2010-03-01T00:00:00\",\"2010-06-01T00:00:00\",\"2010-09-01T00:00:00\",\"2010-12-01T00:00:00\",\"2011-03-01T00:00:00\",\"2011-06-01T00:00:00\",\"2011-09-01T00:00:00\",\"2011-12-01T00:00:00\",\"2012-03-01T00:00:00\",\"2012-06-01T00:00:00\",\"2012-09-01T00:00:00\",\"2012-12-01T00:00:00\",\"2013-03-01T00:00:00\",\"2013-06-01T00:00:00\",\"2013-09-01T00:00:00\",\"2013-12-01T00:00:00\",\"2014-03-01T00:00:00\",\"2014-06-01T00:00:00\",\"2014-09-01T00:00:00\",\"2014-12-01T00:00:00\",\"2015-03-01T00:00:00\",\"2015-06-01T00:00:00\",\"2015-09-01T00:00:00\",\"2015-12-01T00:00:00\",\"2016-06-01T00:00:00\",\"2016-09-01T00:00:00\",\"2016-12-01T00:00:00\",\"2017-03-01T00:00:00\",\"2017-06-01T00:00:00\",\"2017-12-01T00:00:00\",\"2018-03-01T00:00:00\",\"2018-06-01T00:00:00\",\"2018-09-01T00:00:00\",\"2018-12-01T00:00:00\",\"2019-06-01T00:00:00\",\"2019-06-30T00:00:00\",\"2019-07-31T00:00:00\",\"2019-08-31T00:00:00\",\"2019-09-30T00:00:00\",\"2019-10-31T00:00:00\",\"2019-11-30T00:00:00\",\"2019-12-31T00:00:00\",\"2020-01-31T00:00:00\",\"2020-02-29T00:00:00\",\"2020-03-31T00:00:00\",\"2020-04-30T00:00:00\",\"2020-05-31T00:00:00\"],\"y\":[2914.9039942631375,3386.629979075301,6599.95996092563,2922.876277042747,4344.499885872407,5316.68960756498,3704.20307886088,3229.731365521931,4226.624501678418,4555.636107800359,3671.302974530028,3006.3789751171253,3216.0706487970842,5637.548276572816,3343.8137159009875,3451.1305551530663,6292.016282268886,2778.48805466346,4181.059158213784,3352.3423557065585,5095.601198085168,3799.4490603361814,4109.176729339678,3217.2328666136023,4071.9906715417796,4754.424602691462,3564.398107028468,3110.615800076354,3201.093979875768,5571.3893622100195,3409.589831833357,6162.02998659126,2542.4806401995083,3822.2842656163934,3244.302216530019,5024.706273077801,3769.262122629201,2813.3186586125926,4169.941433725241,4597.208785991594,3637.2966995429133,3271.3401960362676,48644.34728265819,30957.199564245882,9367.968217466609,49566.31484090947,-1831.3080213483188,3191.6071558190097,-19818.924947015363,-7562.448131299898,2287.814068168872,13005.349521415897,14510.602395363008,2423.10879706242],\"type\":\"scatter\",\"hoverlabel\":{\"font\":{\"family\":\"Arial\",\"size\":12},\"bgcolor\":\"white\"}},{\"fill\":\"tonexty\",\"fillcolor\":\"rgba(173, 216, 230, 0.3)\",\"hoverinfo\":\"skip\",\"line\":{\"width\":0},\"mode\":\"lines\",\"showlegend\":false,\"x\":[\"2007-03-01T00:00:00\",\"2008-03-01T00:00:00\",\"2008-06-01T00:00:00\",\"2008-09-01T00:00:00\",\"2008-12-01T00:00:00\",\"2009-06-01T00:00:00\",\"2009-09-01T00:00:00\",\"2010-03-01T00:00:00\",\"2010-06-01T00:00:00\",\"2010-09-01T00:00:00\",\"2010-12-01T00:00:00\",\"2011-03-01T00:00:00\",\"2011-06-01T00:00:00\",\"2011-09-01T00:00:00\",\"2011-12-01T00:00:00\",\"2012-03-01T00:00:00\",\"2012-06-01T00:00:00\",\"2012-09-01T00:00:00\",\"2012-12-01T00:00:00\",\"2013-03-01T00:00:00\",\"2013-06-01T00:00:00\",\"2013-09-01T00:00:00\",\"2013-12-01T00:00:00\",\"2014-03-01T00:00:00\",\"2014-06-01T00:00:00\",\"2014-09-01T00:00:00\",\"2014-12-01T00:00:00\",\"2015-03-01T00:00:00\",\"2015-06-01T00:00:00\",\"2015-09-01T00:00:00\",\"2015-12-01T00:00:00\",\"2016-06-01T00:00:00\",\"2016-09-01T00:00:00\",\"2016-12-01T00:00:00\",\"2017-03-01T00:00:00\",\"2017-06-01T00:00:00\",\"2017-12-01T00:00:00\",\"2018-03-01T00:00:00\",\"2018-06-01T00:00:00\",\"2018-09-01T00:00:00\",\"2018-12-01T00:00:00\",\"2019-06-01T00:00:00\",\"2019-06-30T00:00:00\",\"2019-07-31T00:00:00\",\"2019-08-31T00:00:00\",\"2019-09-30T00:00:00\",\"2019-10-31T00:00:00\",\"2019-11-30T00:00:00\",\"2019-12-31T00:00:00\",\"2020-01-31T00:00:00\",\"2020-02-29T00:00:00\",\"2020-03-31T00:00:00\",\"2020-04-30T00:00:00\",\"2020-05-31T00:00:00\"],\"y\":[-2834.636256412688,-2356.839338980689,427.2250050647536,-2838.010276499672,-1660.121455914787,-570.1631369625007,-2281.5506960725406,-2446.967687126826,-1650.964908679763,-1017.1506976324416,-2315.8538548933884,-2760.875859352455,-2663.923908464574,-50.33897131943623,-2215.824639949118,-2522.2919970808202,430.01631935845415,-3029.429904094687,-1806.306493371811,-2475.1287925996307,-781.538984512583,-2173.12278823143,-1892.2402398277977,-2618.7692021418748,-1589.0857776052865,-1216.0146532791807,-2194.823835153334,-2881.114839880018,-2675.7347657659125,-101.3240350420307,-2302.250462327546,191.98438706526582,-3223.9190887672225,-1658.6028136633631,-2568.806082821859,-589.7233799847859,-2179.372182343624,-2847.2185457126434,-1667.0441259724116,-1257.045852423152,-2419.553118183587,-2524.2001537517876,42806.24284139318,25026.061071144704,3534.1165152203935,43714.50258938043,-7586.848920552704,-2701.9018743600623,-25538.669914203092,-13383.301556559152,-3263.6380779305387,7055.5546732312905,8657.937564550535,-3616.26230687403],\"type\":\"scatter\",\"hoverlabel\":{\"font\":{\"family\":\"Arial\",\"size\":12},\"bgcolor\":\"white\"}}],                        {\"template\":{\"data\":{\"barpolar\":[{\"marker\":{\"line\":{\"color\":\"white\",\"width\":0.5},\"pattern\":{\"fillmode\":\"overlay\",\"size\":10,\"solidity\":0.2}},\"type\":\"barpolar\"}],\"bar\":[{\"error_x\":{\"color\":\"#2a3f5f\"},\"error_y\":{\"color\":\"#2a3f5f\"},\"marker\":{\"line\":{\"color\":\"white\",\"width\":0.5},\"pattern\":{\"fillmode\":\"overlay\",\"size\":10,\"solidity\":0.2}},\"type\":\"bar\"}],\"carpet\":[{\"aaxis\":{\"endlinecolor\":\"#2a3f5f\",\"gridcolor\":\"#C8D4E3\",\"linecolor\":\"#C8D4E3\",\"minorgridcolor\":\"#C8D4E3\",\"startlinecolor\":\"#2a3f5f\"},\"baxis\":{\"endlinecolor\":\"#2a3f5f\",\"gridcolor\":\"#C8D4E3\",\"linecolor\":\"#C8D4E3\",\"minorgridcolor\":\"#C8D4E3\",\"startlinecolor\":\"#2a3f5f\"},\"type\":\"carpet\"}],\"choropleth\":[{\"colorbar\":{\"outlinewidth\":0,\"ticks\":\"\"},\"type\":\"choropleth\"}],\"contourcarpet\":[{\"colorbar\":{\"outlinewidth\":0,\"ticks\":\"\"},\"type\":\"contourcarpet\"}],\"contour\":[{\"colorbar\":{\"outlinewidth\":0,\"ticks\":\"\"},\"colorscale\":[[0.0,\"#0d0887\"],[0.1111111111111111,\"#46039f\"],[0.2222222222222222,\"#7201a8\"],[0.3333333333333333,\"#9c179e\"],[0.4444444444444444,\"#bd3786\"],[0.5555555555555556,\"#d8576b\"],[0.6666666666666666,\"#ed7953\"],[0.7777777777777778,\"#fb9f3a\"],[0.8888888888888888,\"#fdca26\"],[1.0,\"#f0f921\"]],\"type\":\"contour\"}],\"heatmapgl\":[{\"colorbar\":{\"outlinewidth\":0,\"ticks\":\"\"},\"colorscale\":[[0.0,\"#0d0887\"],[0.1111111111111111,\"#46039f\"],[0.2222222222222222,\"#7201a8\"],[0.3333333333333333,\"#9c179e\"],[0.4444444444444444,\"#bd3786\"],[0.5555555555555556,\"#d8576b\"],[0.6666666666666666,\"#ed7953\"],[0.7777777777777778,\"#fb9f3a\"],[0.8888888888888888,\"#fdca26\"],[1.0,\"#f0f921\"]],\"type\":\"heatmapgl\"}],\"heatmap\":[{\"colorbar\":{\"outlinewidth\":0,\"ticks\":\"\"},\"colorscale\":[[0.0,\"#0d0887\"],[0.1111111111111111,\"#46039f\"],[0.2222222222222222,\"#7201a8\"],[0.3333333333333333,\"#9c179e\"],[0.4444444444444444,\"#bd3786\"],[0.5555555555555556,\"#d8576b\"],[0.6666666666666666,\"#ed7953\"],[0.7777777777777778,\"#fb9f3a\"],[0.8888888888888888,\"#fdca26\"],[1.0,\"#f0f921\"]],\"type\":\"heatmap\"}],\"histogram2dcontour\":[{\"colorbar\":{\"outlinewidth\":0,\"ticks\":\"\"},\"colorscale\":[[0.0,\"#0d0887\"],[0.1111111111111111,\"#46039f\"],[0.2222222222222222,\"#7201a8\"],[0.3333333333333333,\"#9c179e\"],[0.4444444444444444,\"#bd3786\"],[0.5555555555555556,\"#d8576b\"],[0.6666666666666666,\"#ed7953\"],[0.7777777777777778,\"#fb9f3a\"],[0.8888888888888888,\"#fdca26\"],[1.0,\"#f0f921\"]],\"type\":\"histogram2dcontour\"}],\"histogram2d\":[{\"colorbar\":{\"outlinewidth\":0,\"ticks\":\"\"},\"colorscale\":[[0.0,\"#0d0887\"],[0.1111111111111111,\"#46039f\"],[0.2222222222222222,\"#7201a8\"],[0.3333333333333333,\"#9c179e\"],[0.4444444444444444,\"#bd3786\"],[0.5555555555555556,\"#d8576b\"],[0.6666666666666666,\"#ed7953\"],[0.7777777777777778,\"#fb9f3a\"],[0.8888888888888888,\"#fdca26\"],[1.0,\"#f0f921\"]],\"type\":\"histogram2d\"}],\"histogram\":[{\"marker\":{\"pattern\":{\"fillmode\":\"overlay\",\"size\":10,\"solidity\":0.2}},\"type\":\"histogram\"}],\"mesh3d\":[{\"colorbar\":{\"outlinewidth\":0,\"ticks\":\"\"},\"type\":\"mesh3d\"}],\"parcoords\":[{\"line\":{\"colorbar\":{\"outlinewidth\":0,\"ticks\":\"\"}},\"type\":\"parcoords\"}],\"pie\":[{\"automargin\":true,\"type\":\"pie\"}],\"scatter3d\":[{\"line\":{\"colorbar\":{\"outlinewidth\":0,\"ticks\":\"\"}},\"marker\":{\"colorbar\":{\"outlinewidth\":0,\"ticks\":\"\"}},\"type\":\"scatter3d\"}],\"scattercarpet\":[{\"marker\":{\"colorbar\":{\"outlinewidth\":0,\"ticks\":\"\"}},\"type\":\"scattercarpet\"}],\"scattergeo\":[{\"marker\":{\"colorbar\":{\"outlinewidth\":0,\"ticks\":\"\"}},\"type\":\"scattergeo\"}],\"scattergl\":[{\"marker\":{\"colorbar\":{\"outlinewidth\":0,\"ticks\":\"\"}},\"type\":\"scattergl\"}],\"scattermapbox\":[{\"marker\":{\"colorbar\":{\"outlinewidth\":0,\"ticks\":\"\"}},\"type\":\"scattermapbox\"}],\"scatterpolargl\":[{\"marker\":{\"colorbar\":{\"outlinewidth\":0,\"ticks\":\"\"}},\"type\":\"scatterpolargl\"}],\"scatterpolar\":[{\"marker\":{\"colorbar\":{\"outlinewidth\":0,\"ticks\":\"\"}},\"type\":\"scatterpolar\"}],\"scatter\":[{\"fillpattern\":{\"fillmode\":\"overlay\",\"size\":10,\"solidity\":0.2},\"type\":\"scatter\"}],\"scatterternary\":[{\"marker\":{\"colorbar\":{\"outlinewidth\":0,\"ticks\":\"\"}},\"type\":\"scatterternary\"}],\"surface\":[{\"colorbar\":{\"outlinewidth\":0,\"ticks\":\"\"},\"colorscale\":[[0.0,\"#0d0887\"],[0.1111111111111111,\"#46039f\"],[0.2222222222222222,\"#7201a8\"],[0.3333333333333333,\"#9c179e\"],[0.4444444444444444,\"#bd3786\"],[0.5555555555555556,\"#d8576b\"],[0.6666666666666666,\"#ed7953\"],[0.7777777777777778,\"#fb9f3a\"],[0.8888888888888888,\"#fdca26\"],[1.0,\"#f0f921\"]],\"type\":\"surface\"}],\"table\":[{\"cells\":{\"fill\":{\"color\":\"#EBF0F8\"},\"line\":{\"color\":\"white\"}},\"header\":{\"fill\":{\"color\":\"#C8D4E3\"},\"line\":{\"color\":\"white\"}},\"type\":\"table\"}]},\"layout\":{\"annotationdefaults\":{\"arrowcolor\":\"#2a3f5f\",\"arrowhead\":0,\"arrowwidth\":1},\"autotypenumbers\":\"strict\",\"coloraxis\":{\"colorbar\":{\"outlinewidth\":0,\"ticks\":\"\"}},\"colorscale\":{\"diverging\":[[0,\"#8e0152\"],[0.1,\"#c51b7d\"],[0.2,\"#de77ae\"],[0.3,\"#f1b6da\"],[0.4,\"#fde0ef\"],[0.5,\"#f7f7f7\"],[0.6,\"#e6f5d0\"],[0.7,\"#b8e186\"],[0.8,\"#7fbc41\"],[0.9,\"#4d9221\"],[1,\"#276419\"]],\"sequential\":[[0.0,\"#0d0887\"],[0.1111111111111111,\"#46039f\"],[0.2222222222222222,\"#7201a8\"],[0.3333333333333333,\"#9c179e\"],[0.4444444444444444,\"#bd3786\"],[0.5555555555555556,\"#d8576b\"],[0.6666666666666666,\"#ed7953\"],[0.7777777777777778,\"#fb9f3a\"],[0.8888888888888888,\"#fdca26\"],[1.0,\"#f0f921\"]],\"sequentialminus\":[[0.0,\"#0d0887\"],[0.1111111111111111,\"#46039f\"],[0.2222222222222222,\"#7201a8\"],[0.3333333333333333,\"#9c179e\"],[0.4444444444444444,\"#bd3786\"],[0.5555555555555556,\"#d8576b\"],[0.6666666666666666,\"#ed7953\"],[0.7777777777777778,\"#fb9f3a\"],[0.8888888888888888,\"#fdca26\"],[1.0,\"#f0f921\"]]},\"colorway\":[\"#636efa\",\"#EF553B\",\"#00cc96\",\"#ab63fa\",\"#FFA15A\",\"#19d3f3\",\"#FF6692\",\"#B6E880\",\"#FF97FF\",\"#FECB52\"],\"font\":{\"color\":\"#2a3f5f\"},\"geo\":{\"bgcolor\":\"white\",\"lakecolor\":\"white\",\"landcolor\":\"white\",\"showlakes\":true,\"showland\":true,\"subunitcolor\":\"#C8D4E3\"},\"hoverlabel\":{\"align\":\"left\"},\"hovermode\":\"closest\",\"mapbox\":{\"style\":\"light\"},\"paper_bgcolor\":\"white\",\"plot_bgcolor\":\"white\",\"polar\":{\"angularaxis\":{\"gridcolor\":\"#EBF0F8\",\"linecolor\":\"#EBF0F8\",\"ticks\":\"\"},\"bgcolor\":\"white\",\"radialaxis\":{\"gridcolor\":\"#EBF0F8\",\"linecolor\":\"#EBF0F8\",\"ticks\":\"\"}},\"scene\":{\"xaxis\":{\"backgroundcolor\":\"white\",\"gridcolor\":\"#DFE8F3\",\"gridwidth\":2,\"linecolor\":\"#EBF0F8\",\"showbackground\":true,\"ticks\":\"\",\"zerolinecolor\":\"#EBF0F8\"},\"yaxis\":{\"backgroundcolor\":\"white\",\"gridcolor\":\"#DFE8F3\",\"gridwidth\":2,\"linecolor\":\"#EBF0F8\",\"showbackground\":true,\"ticks\":\"\",\"zerolinecolor\":\"#EBF0F8\"},\"zaxis\":{\"backgroundcolor\":\"white\",\"gridcolor\":\"#DFE8F3\",\"gridwidth\":2,\"linecolor\":\"#EBF0F8\",\"showbackground\":true,\"ticks\":\"\",\"zerolinecolor\":\"#EBF0F8\"}},\"shapedefaults\":{\"line\":{\"color\":\"#2a3f5f\"}},\"ternary\":{\"aaxis\":{\"gridcolor\":\"#DFE8F3\",\"linecolor\":\"#A2B1C6\",\"ticks\":\"\"},\"baxis\":{\"gridcolor\":\"#DFE8F3\",\"linecolor\":\"#A2B1C6\",\"ticks\":\"\"},\"bgcolor\":\"white\",\"caxis\":{\"gridcolor\":\"#DFE8F3\",\"linecolor\":\"#A2B1C6\",\"ticks\":\"\"}},\"title\":{\"x\":0.05},\"xaxis\":{\"automargin\":true,\"gridcolor\":\"#EBF0F8\",\"linecolor\":\"#EBF0F8\",\"ticks\":\"\",\"title\":{\"standoff\":15},\"zerolinecolor\":\"#EBF0F8\",\"zerolinewidth\":2},\"yaxis\":{\"automargin\":true,\"gridcolor\":\"#EBF0F8\",\"linecolor\":\"#EBF0F8\",\"ticks\":\"\",\"title\":{\"standoff\":15},\"zerolinecolor\":\"#EBF0F8\",\"zerolinewidth\":2}}},\"font\":{\"family\":\"Arial\",\"size\":12,\"color\":\"black\"},\"xaxis\":{\"title\":{\"text\":\"Date\"},\"showgrid\":true,\"gridcolor\":\"peru\"},\"yaxis\":{\"title\":{\"text\":\"Trend Popularity\"},\"showgrid\":true,\"gridcolor\":\"peachpuff\"},\"legend\":{\"x\":0.02,\"y\":0.98,\"bgcolor\":\"rgba(255, 255, 255, 0.5)\"},\"title\":{\"text\":\"Fashion Trend Predictions\"},\"hovermode\":\"x unified\",\"plot_bgcolor\":\"rgba(240, 240, 240, 0.9)\",\"paper_bgcolor\":\"rgba(255, 255, 255, 0.9)\"},                        {\"responsive\": true}                    ).then(function(){\n",
       "                            \n",
       "var gd = document.getElementById('ca7983ac-3555-4961-8891-e301f1e253ba');\n",
       "var x = new MutationObserver(function (mutations, observer) {{\n",
       "        var display = window.getComputedStyle(gd).display;\n",
       "        if (!display || display === 'none') {{\n",
       "            console.log([gd, 'removed!']);\n",
       "            Plotly.purge(gd);\n",
       "            observer.disconnect();\n",
       "        }}\n",
       "}});\n",
       "\n",
       "// Listen for the removal of the full notebook cells\n",
       "var notebookContainer = gd.closest('#notebook-container');\n",
       "if (notebookContainer) {{\n",
       "    x.observe(notebookContainer, {childList: true});\n",
       "}}\n",
       "\n",
       "// Listen for the clearing of the current output cell\n",
       "var outputEl = gd.closest('.output');\n",
       "if (outputEl) {{\n",
       "    x.observe(outputEl, {childList: true});\n",
       "}}\n",
       "\n",
       "                        })                };                });            </script>        </div>"
      ]
     },
     "metadata": {},
     "output_type": "display_data"
    },
    {
     "name": "stdout",
     "output_type": "stream",
     "text": [
      "Popular Article Types and Colors:\n",
      "       articleType baseColour  count\n",
      "1762       Tshirts      White   1119\n",
      "1730       Tshirts      Black   1049\n",
      "1731       Tshirts       Blue   1045\n",
      "1842       Watches      Black    987\n",
      "1484  Sports Shoes      White    898\n",
      "246   Casual Shoes      Black    875\n",
      "1347        Shirts       Blue    785\n",
      "1739       Tshirts       Grey    628\n",
      "1756       Tshirts        Red    602\n",
      "1738       Tshirts      Green    591\n"
     ]
    }
   ],
   "source": [
    "import pandas as pd\n",
    "import numpy as np\n",
    "from textblob import TextBlob\n",
    "from collections import Counter\n",
    "from prophet import Prophet\n",
    "import plotly.express as px\n",
    "import plotly.graph_objects as go\n",
    "\n",
    "# Step 1: Load the dataset\n",
    "df = pd.read_csv('style.csv')  # Replace with your dataset path\n",
    "df = df.drop(columns=['Unnamed: 10', 'Unnamed: 11'])\n",
    "\n",
    "# Handle missing values in productDisplayName\n",
    "df = df.dropna(subset=['productDisplayName'])\n",
    "\n",
    "# Step 2: Handle missing values in the 'year' column\n",
    "# Check for missing values\n",
    "print(\"Missing values in 'year' column:\", df['year'].isnull().sum())\n",
    "\n",
    "# Drop rows with missing 'year' values\n",
    "df = df.dropna(subset=['year'])\n",
    "\n",
    "# Convert 'year' to integer\n",
    "df['year'] = df['year'].astype(int)\n",
    "\n",
    "# Display the first few rows\n",
    "print(df.head())\n",
    "\n",
    "# Step 3: Text Analysis (NLP)\n",
    "def analyze_product_names(df):\n",
    "    all_words = []\n",
    "    for name in df['productDisplayName']:\n",
    "        if isinstance(name, str):  # Ensure the value is a string\n",
    "            blob = TextBlob(name)\n",
    "            all_words.extend(blob.words)\n",
    "    \n",
    "    stopwords = ['the', 'and', 'of', 'in', 'to', 'for', 'Men', 'Women']\n",
    "    filtered_words = [word for word in all_words if word.lower() not in stopwords]\n",
    "    word_freq = Counter(filtered_words)\n",
    "    return word_freq.most_common(10)\n",
    "\n",
    "trending_keywords = analyze_product_names(df)\n",
    "print(\"Trending Keywords:\", trending_keywords)\n",
    "\n",
    "# Step 4: Trend Prediction\n",
    "def predict_trends(df):\n",
    "    # Map seasons to months\n",
    "    season_to_month = {\n",
    "        'Spring': 3,  # March\n",
    "        'Summer': 6,  # June\n",
    "        'Fall': 9,    # September\n",
    "        'Winter': 12  # December\n",
    "    }\n",
    "    df['month'] = df['season'].map(season_to_month)\n",
    "    \n",
    "    # Check for missing or invalid values in 'month'\n",
    "    print(\"Missing values in 'month' column:\", df['month'].isnull().sum())\n",
    "    print(\"Unique values in 'month' column:\", df['month'].unique())\n",
    "    \n",
    "    # Drop rows with missing 'month' values (if any)\n",
    "    df = df.dropna(subset=['month'])\n",
    "    \n",
    "    # Convert 'month' to integer\n",
    "    df['month'] = df['month'].astype(int)\n",
    "    \n",
    "    # Debug: Print the first few rows of the 'year' and 'month' columns\n",
    "    print(\"First few rows of 'year' and 'month':\")\n",
    "    print(df[['year', 'month']].head())\n",
    "    \n",
    "    # Create a proper datetime column\n",
    "    df['ds'] = pd.to_datetime(df['year'].astype(str) + '-' + df['month'].astype(str) + '-01', format='%Y-%m-%d')\n",
    "    \n",
    "    # Debug: Print the first few rows of the 'ds' column\n",
    "    print(\"First few rows of 'ds':\")\n",
    "    print(df['ds'].head())\n",
    "    \n",
    "    # Group by datetime and count occurrences\n",
    "    trend_data = df.groupby('ds').size().reset_index(name='y')\n",
    "    \n",
    "    # Fit Prophet model\n",
    "    model = Prophet()\n",
    "    model.fit(trend_data)\n",
    "    \n",
    "    # Make future predictions\n",
    "    future = model.make_future_dataframe(periods=12, freq='M')\n",
    "    forecast = model.predict(future)\n",
    "    return forecast\n",
    "\n",
    "forecast = predict_trends(df)\n",
    "print(forecast[['ds', 'yhat', 'yhat_lower', 'yhat_upper']].tail())\n",
    "\n",
    "# Step 5: Visualization with Plotly\n",
    "def visualize_trends(forecast):\n",
    "    # Create a Plotly figure\n",
    "    fig = go.Figure()\n",
    "\n",
    "    # Add the predicted trend line\n",
    "    fig.add_trace(go.Scatter(\n",
    "        x=forecast['ds'],\n",
    "        y=forecast['yhat'],\n",
    "        mode='lines',\n",
    "        name='Predicted Trend',\n",
    "        line=dict(color='royalblue', width=3),\n",
    "        hovertemplate='<b>Date</b>: %{x}<br><b>Trend Popularity</b>: %{y}<extra></extra>'\n",
    "    ))\n",
    "\n",
    "    # Add the uncertainty interval (shaded region)\n",
    "    fig.add_trace(go.Scatter(\n",
    "        x=forecast['ds'],\n",
    "        y=forecast['yhat_upper'],\n",
    "        mode='lines',\n",
    "        line=dict(width=0),\n",
    "        showlegend=False,\n",
    "        hoverinfo='skip'\n",
    "    ))\n",
    "    fig.add_trace(go.Scatter(\n",
    "        x=forecast['ds'],\n",
    "        y=forecast['yhat_lower'],\n",
    "        mode='lines',\n",
    "        line=dict(width=0),\n",
    "        fillcolor='rgba(173, 216, 230, 0.3)',\n",
    "        fill='tonexty',\n",
    "        showlegend=False,\n",
    "        hoverinfo='skip'\n",
    "    ))\n",
    "\n",
    "    # Update layout for a trendy look\n",
    "    fig.update_layout(\n",
    "        title='Fashion Trend Predictions',\n",
    "        xaxis_title='Date',\n",
    "        yaxis_title='Trend Popularity',\n",
    "        template='plotly_white',\n",
    "        hovermode='x unified',\n",
    "        font=dict(family='Arial', size=12, color='black'),\n",
    "        plot_bgcolor='rgba(240, 240, 240, 0.9)',\n",
    "        paper_bgcolor='rgba(255, 255, 255, 0.9)',\n",
    "        xaxis=dict(showgrid=True, gridcolor='peru'),\n",
    "        yaxis=dict(showgrid=True, gridcolor='peachpuff'),\n",
    "        legend=dict(x=0.02, y=0.98, bgcolor='rgba(255, 255, 255, 0.5)')\n",
    "    )\n",
    "\n",
    "    # Add hover effects\n",
    "    fig.update_traces(\n",
    "        hoverlabel=dict(bgcolor='white', font_size=12, font_family='Arial')\n",
    "    )\n",
    "\n",
    "    # Show the figure\n",
    "    fig.show()\n",
    "\n",
    "visualize_trends(forecast)\n",
    "\n",
    "# Step 6: Analyze Article Types and Colors\n",
    "def analyze_article_colors(df):\n",
    "    article_color_counts = df.groupby(['articleType', 'baseColour']).size().reset_index(name='count')\n",
    "    article_color_counts = article_color_counts.sort_values(by='count', ascending=False)\n",
    "    return article_color_counts.head(10)\n",
    "\n",
    "popular_article_colors = analyze_article_colors(df)\n",
    "print(\"Popular Article Types and Colors:\")\n",
    "print(popular_article_colors)"
   ]
  },
  {
   "cell_type": "code",
   "execution_count": null,
   "id": "26ba1e90-9aa7-4ac0-99e1-00e72e8bf1c7",
   "metadata": {},
   "outputs": [],
   "source": []
  }
 ],
 "metadata": {
  "kernelspec": {
   "display_name": "Python 3 (ipykernel)",
   "language": "python",
   "name": "python3"
  },
  "language_info": {
   "codemirror_mode": {
    "name": "ipython",
    "version": 3
   },
   "file_extension": ".py",
   "mimetype": "text/x-python",
   "name": "python",
   "nbconvert_exporter": "python",
   "pygments_lexer": "ipython3",
   "version": "3.12.4"
  }
 },
 "nbformat": 4,
 "nbformat_minor": 5
}
